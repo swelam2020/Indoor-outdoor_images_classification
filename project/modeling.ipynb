{
 "cells": [
  {
   "cell_type": "code",
   "execution_count": 1,
   "id": "f40a253b",
   "metadata": {},
   "outputs": [],
   "source": [
    "import pandas as pd\n",
    "import numpy as np\n",
    "import seaborn as sns\n",
    "import matplotlib.pyplot as plt\n",
    "from warnings import filterwarnings\n",
    "filterwarnings(\"ignore\")\n",
    "import os\n",
    "from PIL import Image\n",
    "import cv2\n",
    "import tensorflow as tf\n",
    "from sklearn.model_selection import train_test_split\n"
   ]
  },
  {
   "cell_type": "code",
   "execution_count": 4,
   "id": "24499378",
   "metadata": {},
   "outputs": [],
   "source": [
    "df=pd.read_csv(\"indoor&outdoor_data.csv\" , index_col=None)\n",
    "df=df.drop(\"Unnamed: 0\",axis=1)\n",
    "df.head()\n",
    "\n",
    "y=df['label']\n",
    "x=df.drop('label',axis=1)\n"
   ]
  },
  {
   "cell_type": "code",
   "execution_count": 5,
   "id": "7750efc9",
   "metadata": {},
   "outputs": [],
   "source": [
    "X_train,X_test,Y_train,Y_test = train_test_split(x,y,test_size=0.2,random_state=42)\n",
    "X_train = X_train.values.reshape(-1,50,50,1)\n",
    "X_test = X_test.values.reshape(-1,50,50,1)\n"
   ]
  },
  {
   "cell_type": "code",
   "execution_count": 19,
   "id": "4483cf82",
   "metadata": {},
   "outputs": [],
   "source": [
    "\n",
    "from keras.models import Sequential\n",
    "from keras.layers import Conv2D, MaxPooling2D, GlobalAveragePooling2D, BatchNormalization, Dropout, Dense ,Softmax\n",
    "\n",
    "\n",
    "\n",
    "def create_model(optimizer='adam', kernel_initializer='he_normal', activation='relu'):\n",
    "    # create model\n",
    "    model = Sequential()\n",
    "    model.add(Conv2D(filters=16, kernel_size=3, padding='same', input_shape=(50, 50, 1), kernel_initializer=kernel_initializer, activation=activation))\n",
    "    model.add(BatchNormalization())\n",
    "    model.add(MaxPooling2D(pool_size=2))\n",
    "    model.add(Dropout(0.2))\n",
    "\n",
    "    model.add(Conv2D(filters=32, kernel_size=3, padding='same', kernel_initializer=kernel_initializer, activation=activation))\n",
    "    model.add(BatchNormalization())\n",
    "    model.add(MaxPooling2D(pool_size=2))\n",
    "    model.add(Dropout(0.2))\n",
    "\n",
    "    model.add(Conv2D(filters=64, kernel_size=3, padding='same', kernel_initializer=kernel_initializer, activation=activation))\n",
    "    model.add(BatchNormalization())\n",
    "    model.add(MaxPooling2D(pool_size=2))\n",
    "    model.add(Dropout(0.2))\n",
    "\n",
    "    model.add(Conv2D(filters=128, kernel_size=3, padding='same', kernel_initializer=kernel_initializer, activation=activation))\n",
    "    model.add(BatchNormalization())\n",
    "    model.add(MaxPooling2D(pool_size=2))\n",
    "    model.add(Dropout(0.2))\n",
    "    model.add(GlobalAveragePooling2D())\n",
    "\n",
    "    #Fully connected final layer\n",
    "    model.add(Dense(2, activation='softmax'))\n",
    "\n",
    "    # Compile model\n",
    "    model.compile(loss='sparse_categorical_crossentropy', metrics=['accuracy'], optimizer=optimizer)\n",
    "    return model"
   ]
  },
  {
   "cell_type": "code",
   "execution_count": 7,
   "id": "acc477aa",
   "metadata": {},
   "outputs": [
    {
     "name": "stdout",
     "output_type": "stream",
     "text": [
      "Model: \"sequential\"\n",
      "_________________________________________________________________\n",
      " Layer (type)                Output Shape              Param #   \n",
      "=================================================================\n",
      " conv2d (Conv2D)             (None, 50, 50, 16)        160       \n",
      "                                                                 \n",
      " batch_normalization (BatchN  (None, 50, 50, 16)       64        \n",
      " ormalization)                                                   \n",
      "                                                                 \n",
      " max_pooling2d (MaxPooling2D  (None, 25, 25, 16)       0         \n",
      " )                                                               \n",
      "                                                                 \n",
      " dropout (Dropout)           (None, 25, 25, 16)        0         \n",
      "                                                                 \n",
      " conv2d_1 (Conv2D)           (None, 25, 25, 32)        4640      \n",
      "                                                                 \n",
      " batch_normalization_1 (Batc  (None, 25, 25, 32)       128       \n",
      " hNormalization)                                                 \n",
      "                                                                 \n",
      " max_pooling2d_1 (MaxPooling  (None, 12, 12, 32)       0         \n",
      " 2D)                                                             \n",
      "                                                                 \n",
      " dropout_1 (Dropout)         (None, 12, 12, 32)        0         \n",
      "                                                                 \n",
      " conv2d_2 (Conv2D)           (None, 12, 12, 64)        18496     \n",
      "                                                                 \n",
      " batch_normalization_2 (Batc  (None, 12, 12, 64)       256       \n",
      " hNormalization)                                                 \n",
      "                                                                 \n",
      " max_pooling2d_2 (MaxPooling  (None, 6, 6, 64)         0         \n",
      " 2D)                                                             \n",
      "                                                                 \n",
      " dropout_2 (Dropout)         (None, 6, 6, 64)          0         \n",
      "                                                                 \n",
      " conv2d_3 (Conv2D)           (None, 6, 6, 128)         73856     \n",
      "                                                                 \n",
      " batch_normalization_3 (Batc  (None, 6, 6, 128)        512       \n",
      " hNormalization)                                                 \n",
      "                                                                 \n",
      " max_pooling2d_3 (MaxPooling  (None, 3, 3, 128)        0         \n",
      " 2D)                                                             \n",
      "                                                                 \n",
      " dropout_3 (Dropout)         (None, 3, 3, 128)         0         \n",
      "                                                                 \n",
      " global_average_pooling2d (G  (None, 128)              0         \n",
      " lobalAveragePooling2D)                                          \n",
      "                                                                 \n",
      " dense (Dense)               (None, 2)                 258       \n",
      "                                                                 \n",
      "=================================================================\n",
      "Total params: 98,370\n",
      "Trainable params: 97,890\n",
      "Non-trainable params: 480\n",
      "_________________________________________________________________\n"
     ]
    }
   ],
   "source": [
    "model = create_model()\n",
    "model.summary()"
   ]
  },
  {
   "cell_type": "code",
   "execution_count": 59,
   "id": "6553dae0",
   "metadata": {},
   "outputs": [
    {
     "name": "stdout",
     "output_type": "stream",
     "text": [
      "Epoch 1/40\n",
      "51/52 [============================>.] - ETA: 0s - loss: 0.0162 - accuracy: 0.9948\n",
      "Epoch 00001: val_loss improved from inf to 0.25981, saving model to weights.hdf5\n",
      "52/52 [==============================] - 3s 67ms/step - loss: 0.0161 - accuracy: 0.9948 - val_loss: 0.2598 - val_accuracy: 0.9249\n",
      "Epoch 2/40\n",
      "51/52 [============================>.] - ETA: 0s - loss: 0.0189 - accuracy: 0.9941\n",
      "Epoch 00002: val_loss did not improve from 0.25981\n",
      "52/52 [==============================] - 3s 63ms/step - loss: 0.0187 - accuracy: 0.9942 - val_loss: 0.3473 - val_accuracy: 0.9041\n",
      "Epoch 3/40\n",
      "52/52 [==============================] - ETA: 0s - loss: 0.0144 - accuracy: 0.9942\n",
      "Epoch 00003: val_loss did not improve from 0.25981\n",
      "52/52 [==============================] - 3s 65ms/step - loss: 0.0144 - accuracy: 0.9942 - val_loss: 0.3476 - val_accuracy: 0.9326\n",
      "Epoch 4/40\n",
      "51/52 [============================>.] - ETA: 0s - loss: 0.0147 - accuracy: 0.9935\n",
      "Epoch 00004: val_loss did not improve from 0.25981\n",
      "52/52 [==============================] - 3s 65ms/step - loss: 0.0146 - accuracy: 0.9935 - val_loss: 0.3278 - val_accuracy: 0.9171\n",
      "Epoch 5/40\n",
      "51/52 [============================>.] - ETA: 0s - loss: 0.0140 - accuracy: 0.9948\n",
      "Epoch 00005: val_loss did not improve from 0.25981\n",
      "52/52 [==============================] - 3s 65ms/step - loss: 0.0140 - accuracy: 0.9948 - val_loss: 0.4068 - val_accuracy: 0.9145\n",
      "Epoch 6/40\n",
      "51/52 [============================>.] - ETA: 0s - loss: 0.0117 - accuracy: 0.9967\n",
      "Epoch 00006: val_loss did not improve from 0.25981\n",
      "52/52 [==============================] - 3s 64ms/step - loss: 0.0118 - accuracy: 0.9968 - val_loss: 0.4378 - val_accuracy: 0.8886\n",
      "Epoch 7/40\n",
      "51/52 [============================>.] - ETA: 0s - loss: 0.0076 - accuracy: 0.9974\n",
      "Epoch 00007: val_loss did not improve from 0.25981\n",
      "52/52 [==============================] - 3s 64ms/step - loss: 0.0078 - accuracy: 0.9974 - val_loss: 0.4026 - val_accuracy: 0.8964\n",
      "Epoch 8/40\n",
      "51/52 [============================>.] - ETA: 0s - loss: 0.0077 - accuracy: 0.9980\n",
      "Epoch 00008: val_loss did not improve from 0.25981\n",
      "52/52 [==============================] - 3s 65ms/step - loss: 0.0077 - accuracy: 0.9981 - val_loss: 0.3788 - val_accuracy: 0.9171\n",
      "Epoch 9/40\n",
      "52/52 [==============================] - ETA: 0s - loss: 0.0063 - accuracy: 0.9974\n",
      "Epoch 00009: val_loss did not improve from 0.25981\n",
      "52/52 [==============================] - 3s 65ms/step - loss: 0.0063 - accuracy: 0.9974 - val_loss: 0.2872 - val_accuracy: 0.9301\n",
      "Epoch 10/40\n",
      "51/52 [============================>.] - ETA: 0s - loss: 0.0047 - accuracy: 0.9987\n",
      "Epoch 00010: val_loss did not improve from 0.25981\n",
      "52/52 [==============================] - 3s 65ms/step - loss: 0.0047 - accuracy: 0.9987 - val_loss: 0.3117 - val_accuracy: 0.9249\n",
      "Epoch 11/40\n",
      "51/52 [============================>.] - ETA: 0s - loss: 0.0045 - accuracy: 0.9993\n",
      "Epoch 00011: val_loss did not improve from 0.25981\n",
      "52/52 [==============================] - 3s 66ms/step - loss: 0.0047 - accuracy: 0.9994 - val_loss: 0.3335 - val_accuracy: 0.9119\n",
      "Epoch 12/40\n",
      "51/52 [============================>.] - ETA: 0s - loss: 0.0056 - accuracy: 0.9980\n",
      "Epoch 00012: val_loss did not improve from 0.25981\n",
      "52/52 [==============================] - 4s 68ms/step - loss: 0.0056 - accuracy: 0.9981 - val_loss: 0.3936 - val_accuracy: 0.9301\n",
      "Epoch 13/40\n",
      "51/52 [============================>.] - ETA: 0s - loss: 0.0094 - accuracy: 0.9954\n",
      "Epoch 00013: val_loss did not improve from 0.25981\n",
      "52/52 [==============================] - 3s 66ms/step - loss: 0.0094 - accuracy: 0.9955 - val_loss: 0.4196 - val_accuracy: 0.9171\n",
      "Epoch 14/40\n",
      "51/52 [============================>.] - ETA: 0s - loss: 0.0112 - accuracy: 0.9967\n",
      "Epoch 00014: val_loss did not improve from 0.25981\n",
      "52/52 [==============================] - 3s 67ms/step - loss: 0.0115 - accuracy: 0.9968 - val_loss: 0.3447 - val_accuracy: 0.9171\n",
      "Epoch 15/40\n",
      "51/52 [============================>.] - ETA: 0s - loss: 0.0113 - accuracy: 0.9967\n",
      "Epoch 00015: val_loss did not improve from 0.25981\n",
      "52/52 [==============================] - 3s 67ms/step - loss: 0.0113 - accuracy: 0.9968 - val_loss: 0.3635 - val_accuracy: 0.9301\n",
      "Epoch 16/40\n",
      "51/52 [============================>.] - ETA: 0s - loss: 0.0179 - accuracy: 0.9961\n",
      "Epoch 00016: val_loss did not improve from 0.25981\n",
      "52/52 [==============================] - 4s 70ms/step - loss: 0.0178 - accuracy: 0.9961 - val_loss: 0.3456 - val_accuracy: 0.9171\n",
      "Epoch 17/40\n",
      "51/52 [============================>.] - ETA: 0s - loss: 0.0186 - accuracy: 0.9915\n",
      "Epoch 00017: val_loss did not improve from 0.25981\n",
      "52/52 [==============================] - 4s 74ms/step - loss: 0.0185 - accuracy: 0.9916 - val_loss: 0.3895 - val_accuracy: 0.9119\n",
      "Epoch 18/40\n",
      "51/52 [============================>.] - ETA: 0s - loss: 0.0118 - accuracy: 0.9961\n",
      "Epoch 00018: val_loss did not improve from 0.25981\n",
      "52/52 [==============================] - 4s 67ms/step - loss: 0.0118 - accuracy: 0.9961 - val_loss: 0.3696 - val_accuracy: 0.9197\n",
      "Epoch 19/40\n",
      "51/52 [============================>.] - ETA: 0s - loss: 0.0082 - accuracy: 0.9961\n",
      "Epoch 00019: val_loss did not improve from 0.25981\n",
      "52/52 [==============================] - 3s 66ms/step - loss: 0.0082 - accuracy: 0.9961 - val_loss: 0.3616 - val_accuracy: 0.9093\n",
      "Epoch 20/40\n",
      "51/52 [============================>.] - ETA: 0s - loss: 0.0056 - accuracy: 0.9987 ETA: 1s - l\n",
      "Epoch 00020: val_loss did not improve from 0.25981\n",
      "52/52 [==============================] - 3s 65ms/step - loss: 0.0056 - accuracy: 0.9987 - val_loss: 0.3836 - val_accuracy: 0.9171\n",
      "Epoch 21/40\n",
      "51/52 [============================>.] - ETA: 0s - loss: 0.0060 - accuracy: 0.9974\n",
      "Epoch 00021: val_loss did not improve from 0.25981\n",
      "52/52 [==============================] - 3s 65ms/step - loss: 0.0060 - accuracy: 0.9974 - val_loss: 0.3367 - val_accuracy: 0.9171\n",
      "Epoch 22/40\n",
      "51/52 [============================>.] - ETA: 0s - loss: 0.0040 - accuracy: 0.9993\n",
      "Epoch 00022: val_loss did not improve from 0.25981\n",
      "52/52 [==============================] - 3s 64ms/step - loss: 0.0039 - accuracy: 0.9994 - val_loss: 0.3476 - val_accuracy: 0.9249\n",
      "Epoch 23/40\n",
      "51/52 [============================>.] - ETA: 0s - loss: 0.0050 - accuracy: 0.9974\n",
      "Epoch 00023: val_loss did not improve from 0.25981\n",
      "52/52 [==============================] - 3s 64ms/step - loss: 0.0050 - accuracy: 0.9974 - val_loss: 0.3956 - val_accuracy: 0.9145\n",
      "Epoch 24/40\n",
      "51/52 [============================>.] - ETA: 0s - loss: 0.0075 - accuracy: 0.9980\n",
      "Epoch 00024: val_loss did not improve from 0.25981\n",
      "52/52 [==============================] - 3s 64ms/step - loss: 0.0075 - accuracy: 0.9981 - val_loss: 0.3674 - val_accuracy: 0.9093\n",
      "Epoch 25/40\n",
      "51/52 [============================>.] - ETA: 0s - loss: 0.0069 - accuracy: 0.9987\n",
      "Epoch 00025: val_loss did not improve from 0.25981\n",
      "52/52 [==============================] - 3s 64ms/step - loss: 0.0070 - accuracy: 0.9987 - val_loss: 0.4085 - val_accuracy: 0.9145\n",
      "Epoch 26/40\n",
      "51/52 [============================>.] - ETA: 0s - loss: 0.0125 - accuracy: 0.9967\n",
      "Epoch 00026: val_loss did not improve from 0.25981\n",
      "52/52 [==============================] - 3s 67ms/step - loss: 0.0130 - accuracy: 0.9961 - val_loss: 0.3522 - val_accuracy: 0.9223\n",
      "Epoch 27/40\n",
      "51/52 [============================>.] - ETA: 0s - loss: 0.0210 - accuracy: 0.9908\n",
      "Epoch 00027: val_loss did not improve from 0.25981\n",
      "52/52 [==============================] - 3s 64ms/step - loss: 0.0212 - accuracy: 0.9909 - val_loss: 0.3545 - val_accuracy: 0.9326\n",
      "Epoch 28/40\n",
      "51/52 [============================>.] - ETA: 0s - loss: 0.0170 - accuracy: 0.9954\n",
      "Epoch 00028: val_loss did not improve from 0.25981\n",
      "52/52 [==============================] - 4s 70ms/step - loss: 0.0169 - accuracy: 0.9955 - val_loss: 0.3564 - val_accuracy: 0.9326\n",
      "Epoch 29/40\n",
      "51/52 [============================>.] - ETA: 0s - loss: 0.0079 - accuracy: 0.9974\n",
      "Epoch 00029: val_loss did not improve from 0.25981\n",
      "52/52 [==============================] - 4s 70ms/step - loss: 0.0078 - accuracy: 0.9974 - val_loss: 0.3642 - val_accuracy: 0.9223\n",
      "Epoch 30/40\n",
      "51/52 [============================>.] - ETA: 0s - loss: 0.0110 - accuracy: 0.9941\n",
      "Epoch 00030: val_loss did not improve from 0.25981\n",
      "52/52 [==============================] - 3s 66ms/step - loss: 0.0109 - accuracy: 0.9942 - val_loss: 0.3859 - val_accuracy: 0.9326\n"
     ]
    },
    {
     "name": "stdout",
     "output_type": "stream",
     "text": [
      "Epoch 31/40\n",
      "51/52 [============================>.] - ETA: 0s - loss: 0.0077 - accuracy: 0.9954\n",
      "Epoch 00031: val_loss did not improve from 0.25981\n",
      "52/52 [==============================] - 3s 64ms/step - loss: 0.0078 - accuracy: 0.9955 - val_loss: 0.3730 - val_accuracy: 0.9301\n",
      "Epoch 32/40\n",
      "51/52 [============================>.] - ETA: 0s - loss: 0.0142 - accuracy: 0.9954 ETA: 0s - loss: 0.0153 - accuracy: \n",
      "Epoch 00032: val_loss did not improve from 0.25981\n",
      "52/52 [==============================] - 3s 64ms/step - loss: 0.0214 - accuracy: 0.9942 - val_loss: 0.4061 - val_accuracy: 0.9378\n",
      "Epoch 33/40\n",
      "51/52 [============================>.] - ETA: 0s - loss: 0.0220 - accuracy: 0.9922\n",
      "Epoch 00033: val_loss did not improve from 0.25981\n",
      "52/52 [==============================] - 3s 63ms/step - loss: 0.0219 - accuracy: 0.9922 - val_loss: 0.3130 - val_accuracy: 0.9171\n",
      "Epoch 34/40\n",
      "51/52 [============================>.] - ETA: 0s - loss: 0.0122 - accuracy: 0.9961\n",
      "Epoch 00034: val_loss did not improve from 0.25981\n",
      "52/52 [==============================] - 3s 63ms/step - loss: 0.0124 - accuracy: 0.9961 - val_loss: 0.3417 - val_accuracy: 0.9223\n",
      "Epoch 35/40\n",
      "51/52 [============================>.] - ETA: 0s - loss: 0.0192 - accuracy: 0.9915\n",
      "Epoch 00035: val_loss did not improve from 0.25981\n",
      "52/52 [==============================] - 3s 64ms/step - loss: 0.0191 - accuracy: 0.9916 - val_loss: 0.3625 - val_accuracy: 0.9067\n",
      "Epoch 36/40\n",
      "51/52 [============================>.] - ETA: 0s - loss: 0.0056 - accuracy: 0.9980\n",
      "Epoch 00036: val_loss did not improve from 0.25981\n",
      "52/52 [==============================] - 3s 67ms/step - loss: 0.0056 - accuracy: 0.9981 - val_loss: 0.3228 - val_accuracy: 0.9223\n",
      "Epoch 37/40\n",
      "51/52 [============================>.] - ETA: 0s - loss: 0.0041 - accuracy: 0.9987\n",
      "Epoch 00037: val_loss did not improve from 0.25981\n",
      "52/52 [==============================] - 4s 70ms/step - loss: 0.0042 - accuracy: 0.9987 - val_loss: 0.3891 - val_accuracy: 0.9145\n",
      "Epoch 38/40\n",
      "51/52 [============================>.] - ETA: 0s - loss: 0.0138 - accuracy: 0.9948\n",
      "Epoch 00038: val_loss did not improve from 0.25981\n",
      "52/52 [==============================] - 4s 71ms/step - loss: 0.0137 - accuracy: 0.9948 - val_loss: 0.3533 - val_accuracy: 0.9171\n",
      "Epoch 39/40\n",
      "51/52 [============================>.] - ETA: 0s - loss: 0.0065 - accuracy: 0.9987\n",
      "Epoch 00039: val_loss did not improve from 0.25981\n",
      "52/52 [==============================] - 4s 72ms/step - loss: 0.0064 - accuracy: 0.9987 - val_loss: 0.3901 - val_accuracy: 0.9223\n",
      "Epoch 40/40\n",
      "52/52 [==============================] - ETA: 0s - loss: 0.0085 - accuracy: 0.9968\n",
      "Epoch 00040: val_loss did not improve from 0.25981\n",
      "52/52 [==============================] - 4s 68ms/step - loss: 0.0085 - accuracy: 0.9968 - val_loss: 0.3207 - val_accuracy: 0.9171\n"
     ]
    }
   ],
   "source": [
    "from keras.callbacks import ModelCheckpoint  \n",
    "\n",
    "# using checkpoints to save model weights to be used later instead of training again on the same epochs.\n",
    "checkpointer = ModelCheckpoint(filepath='weights.hdf5', verbose=1, save_best_only=True)\n",
    "\n",
    "history = model.fit(X_train, Y_train, \n",
    "                    validation_data=(X_test, Y_test),\n",
    "                    epochs=40, batch_size=30, verbose=1, callbacks=[checkpointer])\n",
    "model.save(\n",
    "    'my_model.h5',\n",
    "    overwrite=True,\n",
    "    include_optimizer=True,\n",
    "    save_format=None,\n",
    "    signatures=None,\n",
    "    options=None,\n",
    "    save_traces=True,\n",
    ")"
   ]
  },
  {
   "cell_type": "code",
   "execution_count": 60,
   "id": "d184ca96",
   "metadata": {},
   "outputs": [
    {
     "data": {
      "image/png": "[encoded data removed]",
      "text/plain": [
       "<Figure size 432x288 with 1 Axes>"
      ]
     },
     "metadata": {
      "needs_background": "light"
     },
     "output_type": "display_data"
    }
   ],
   "source": [
    "# Plot the loss and accuracy curves for training and validation \n",
    "plt.plot(history.history['val_loss'], color='b', label=\"validation loss\")\n",
    "plt.title(\"Test Loss\")\n",
    "plt.xlabel(\"Number of Epochs\")\n",
    "plt.ylabel(\"Loss\")\n",
    "plt.legend()\n",
    "plt.show()"
   ]
  },
  {
   "cell_type": "code",
   "execution_count": 61,
   "id": "e7bbb901",
   "metadata": {},
   "outputs": [
    {
     "name": "stdout",
     "output_type": "stream",
     "text": [
      "(1, 50, 50, 1)\n"
     ]
    }
   ],
   "source": [
    "img = Image.open(\"E:/datasets/indoor&outdoor/test/image_1_1_19.png\").convert(\"L\")\n",
    "img = img.resize((50,50),Image.ANTIALIAS)\n",
    "img = np.asarray(img)/255.0 \n",
    "img=img.reshape(-1,50,50,1)\n",
    "print(img.shape)"
   ]
  },
  {
   "cell_type": "code",
   "execution_count": 65,
   "id": "e696a12e",
   "metadata": {},
   "outputs": [
    {
     "name": "stdout",
     "output_type": "stream",
     "text": [
      "[0.37647059]\n",
      "[[1.00000e+00 1.80207e-11]]\n",
      "outdoor image\n"
     ]
    }
   ],
   "source": [
    "\n",
    "print(img[0][0][0])\n",
    "Y_pred=model.predict(img)\n",
    "print(Y_pred)\n",
    "Y_pred_classes = np.argmax(Y_pred,axis = 1)\n",
    "if int(Y_pred_classes[0]) == 1 :\n",
    "    print(\"indoor image\")\n",
    "elif int(Y_pred_classes[0]) == 0 :\n",
    "    print(\"outdoor image\")"
   ]
  },
  {
   "cell_type": "code",
   "execution_count": 63,
   "id": "864082d9",
   "metadata": {},
   "outputs": [
    {
     "data": {
      "text/plain": [
       "'outdoor'"
      ]
     },
     "execution_count": 63,
     "metadata": {},
     "output_type": "execute_result"
    }
   ],
   "source": [
    "class_predictions=['outdoor' , 'indoor']\n",
    "pred = model.predict(img)\n",
    "score = Softmax(pred[0])\n",
    "\n",
    "class_prediction = class_predictions[np.argmax(pred)]\n",
    "class_prediction"
   ]
  },
  {
   "cell_type": "code",
   "execution_count": 64,
   "id": "e5e670ff",
   "metadata": {},
   "outputs": [
    {
     "name": "stdout",
     "output_type": "stream",
     "text": [
      "[[1.00000e+00 1.80207e-11]]\n",
      "<keras.layers.advanced_activations.Softmax object at 0x000001D1CDA6F970>\n",
      "outdoor\n"
     ]
    }
   ],
   "source": [
    "print(pred)\n",
    "print(score)\n",
    "print(class_prediction)"
   ]
  },
  {
   "cell_type": "code",
   "execution_count": null,
   "id": "6cf3295f",
   "metadata": {},
   "outputs": [],
   "source": []
  },
  {
   "cell_type": "code",
   "execution_count": null,
   "id": "c062d1f8",
   "metadata": {},
   "outputs": [],
   "source": []
  }
 ],
 "metadata": {
  "kernelspec": {
   "display_name": "Python 3 (ipykernel)",
   "language": "python",
   "name": "python3"
  },
  "language_info": {
   "codemirror_mode": {
    "name": "ipython",
    "version": 3
   },
   "file_extension": ".py",
   "mimetype": "text/x-python",
   "name": "python",
   "nbconvert_exporter": "python",
   "pygments_lexer": "ipython3",
   "version": "3.8.12"
  }
 },
 "nbformat": 4,
 "nbformat_minor": 5
}
